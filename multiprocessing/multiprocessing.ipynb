{
 "cells": [
  {
   "cell_type": "code",
   "execution_count": 1,
   "metadata": {},
   "outputs": [],
   "source": [
    "# Multi-processing pool\n",
    "## ref: https://www.maxlist.xyz/2020/03/20/multi-processing-pool/\n",
    "from multiprocessing import Process, Pool\n",
    "import os, time\n",
    " \n",
    " \n",
    "def main_map(i):\n",
    "    result = i * i\n",
    "    return result\n",
    " \n",
    " \n",
    "if __name__ == \"__main__\":\n",
    "    inputs = [0, 1, 2, 3, 4, 5, 6, 7, 8, 9]\n",
    " \n",
    "      # 設定處理程序數量\n",
    "    pool = Pool(4)\n",
    " \n",
    "      # 運行多處理程序\n",
    "    pool_outputs = pool.map(main_map, inputs)\n",
    " \n",
    "      # 輸出執行結果\n",
    "    print(pool_outputs)"
   ]
  },
  {
   "cell_type": "code",
   "execution_count": 2,
   "metadata": {},
   "outputs": [
    {
     "name": "stdout",
     "output_type": "stream",
     "text": [
      "8\n",
      "8\n"
     ]
    }
   ],
   "source": [
    "# recommend cpu number\n",
    "# method 1\n",
    "import multiprocessing\n",
    "cpus = multiprocessing.cpu_count()\n",
    "print(cpus)\n",
    " \n",
    "# method 2\n",
    "import os\n",
    "cpus = os.cpu_count()\n",
    "print(cpus)"
   ]
  },
  {
   "cell_type": "code",
   "execution_count": 1,
   "metadata": {},
   "outputs": [
    {
     "name": "stdout",
     "output_type": "stream",
     "text": [
      "Making 25,000,000.0 sample per 4 worker\n"
     ]
    }
   ],
   "source": [
    "# for loop\n",
    "import os\n",
    "import random\n",
    "import time\n",
    "from multiprocessing import Pool\n",
    "\n",
    "def estimate_nbr_points_in_quarter_circle(nbr_estimates):\n",
    "    \"\"\"\n",
    "    使用純 Python,以 Monte Carlo 法估計四分之一圓內的點數\n",
    "    \"\"\"\n",
    "    print(f\"Executing estimate_nbr_points_in_quarter_circle \\\n",
    "          with {nbr_estimates:,} on pid {os.getpid()}\")\n",
    "    \n",
    "    nbr_trials_in_quarter_unit_circle = 0\n",
    "    for step in range(int(nbr_estimates)):\n",
    "        x = random.uniform(0,1)\n",
    "        y = random.uniform(0,1)\n",
    "        is_in_unit_circle = x * x + y * y <= 1.0\n",
    "        nbr_trials_in_quarter_unit_circle += is_in_unit_circle\n",
    "\n",
    "    return nbr_trials_in_quarter_unit_circle\n",
    "\n",
    "if __name__ == \"__main__\":\n",
    "    nbr_samples_in_total = 1e8\n",
    "    nbr_parallel_blocks = 4\n",
    "    nbr_samples_per_worker = nbr_samples_in_total / nbr_parallel_blocks\n",
    "    \n",
    "    pool = Pool(processes=nbr_parallel_blocks)\n",
    "\n",
    "    print(\"Making {:,} sample per {} worker\".format(nbr_samples_per_worker, nbr_parallel_blocks))\n",
    "\n",
    "    nbr_samples_per_process = [nbr_samples_per_worker] * nbr_parallel_blocks\n",
    "\n",
    "    t1 = time.time()\n",
    "    nbr_in_quater_unit_circles = pool.map(estimate_nbr_points_in_quarter_circle,\n",
    "                                          nbr_samples_per_process)\n",
    "    pi_estimate = sum(nbr_in_quater_unit_circles) * 4 / float(nbr_samples_in_total)\n",
    "    print(\"Estimated pi\", pi_estimate)\n",
    "    print(\"Delta:\", time.time() - t1)\n"
   ]
  },
  {
   "cell_type": "code",
   "execution_count": null,
   "metadata": {},
   "outputs": [],
   "source": []
  }
 ],
 "metadata": {
  "kernelspec": {
   "display_name": "base",
   "language": "python",
   "name": "python3"
  },
  "language_info": {
   "codemirror_mode": {
    "name": "ipython",
    "version": 3
   },
   "file_extension": ".py",
   "mimetype": "text/x-python",
   "name": "python",
   "nbconvert_exporter": "python",
   "pygments_lexer": "ipython3",
   "version": "3.8.13"
  },
  "orig_nbformat": 4
 },
 "nbformat": 4,
 "nbformat_minor": 2
}
